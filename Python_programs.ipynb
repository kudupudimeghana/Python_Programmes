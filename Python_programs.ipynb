{
  "nbformat": 4,
  "nbformat_minor": 0,
  "metadata": {
    "colab": {
      "provenance": [],
      "authorship_tag": "ABX9TyMlA4a/mIwiHr69PWIwKKKW",
      "include_colab_link": true
    },
    "kernelspec": {
      "name": "python3",
      "display_name": "Python 3"
    },
    "language_info": {
      "name": "python"
    }
  },
  "cells": [
    {
      "cell_type": "markdown",
      "metadata": {
        "id": "view-in-github",
        "colab_type": "text"
      },
      "source": [
        "<a href=\"https://colab.research.google.com/github/kudupudimeghana/Python_Programmes/blob/main/Python_programs.ipynb\" target=\"_parent\"><img src=\"https://colab.research.google.com/assets/colab-badge.svg\" alt=\"Open In Colab\"/></a>"
      ]
    },
    {
      "cell_type": "code",
      "source": [
        "import random\n",
        "\n",
        "number = random.randint(1, 100)\n",
        "guess = None\n",
        "\n",
        "print(\"Guess the number between 1 and 100!\")\n",
        "\n",
        "while guess != number:\n",
        "    guess = int(input(\"Your guess: \"))\n",
        "    if guess < number:\n",
        "        print(\"Too low!\")\n",
        "    elif guess > number:\n",
        "        print(\"Too high!\")\n",
        "    else:\n",
        "        print(\"Correct! You guessed the number.\")\n"
      ],
      "metadata": {
        "colab": {
          "base_uri": "https://localhost:8080/"
        },
        "id": "cLJppsHGHgCw",
        "outputId": "841db70c-473f-4ab7-977b-1645dd97fd2c"
      },
      "execution_count": null,
      "outputs": [
        {
          "output_type": "stream",
          "name": "stdout",
          "text": [
            "Guess the number between 1 and 100!\n",
            "Your guess: 3\n",
            "Too low!\n",
            "Your guess: 67\n",
            "Too low!\n",
            "Your guess: 34\n",
            "Too low!\n",
            "Your guess: 99\n",
            "Too high!\n",
            "Your guess: 85\n",
            "Too low!\n",
            "Your guess: 89\n",
            "Too low!\n",
            "Your guess: 95\n",
            "Too low!\n",
            "Your guess: 97\n",
            "Too high!\n",
            "Your guess: 96\n",
            "Correct! You guessed the number.\n"
          ]
        }
      ]
    },
    {
      "cell_type": "code",
      "source": [
        "# Function to check Armstrong number\n",
        "def is_armstrong(number):\n",
        "    # Convert number to string to count digits\n",
        "    num_str = str(number)\n",
        "    num_digits = len(num_str)\n",
        "\n",
        "    # Calculate the sum of powers of its digits\n",
        "    total = sum(int(digit) ** num_digits for digit in num_str)\n",
        "\n",
        "    # Check if it is equal to the original number\n",
        "    return total == number\n",
        "\n",
        "# Input from user\n",
        "num = int(input(\"Enter a number: \"))\n",
        "\n",
        "# Output\n",
        "if is_armstrong(num):\n",
        "    print(num, \"is an Armstrong number.\")\n",
        "else:\n",
        "    print(num, \"is not an Armstrong number.\")\n"
      ],
      "metadata": {
        "colab": {
          "base_uri": "https://localhost:8080/"
        },
        "id": "3p-3BVgn8J2G",
        "outputId": "bc36d293-dfda-4be1-83e5-35880c07edba"
      },
      "execution_count": 3,
      "outputs": [
        {
          "output_type": "stream",
          "name": "stdout",
          "text": [
            "Enter a number: 10\n",
            "10 is not an Armstrong number.\n"
          ]
        }
      ]
    },
    {
      "cell_type": "code",
      "source": [
        "# Fibonacci sequence\n",
        "def fibonacci(n):\n",
        "    fib_list = [0, 1]\n",
        "    if n <= 0:\n",
        "        return []\n",
        "    elif n == 1:\n",
        "        return [0]\n",
        "    else:\n",
        "        for i in range(2, n):\n",
        "            next_fib = fib_list[i-1] + fib_list[i-2]\n",
        "            fib_list.append(next_fib)\n",
        "        return fib_list\n"
      ],
      "metadata": {
        "id": "rTstaVbHqTgq"
      },
      "execution_count": null,
      "outputs": []
    },
    {
      "cell_type": "code",
      "source": [
        "# calculator program\n",
        "a = float(input(\"Enter first number: \"))\n",
        "b = float(input(\"Enter second number: \"))\n",
        "op = input(\"Choose operation (+, -, *, /): \")\n",
        "\n",
        "if op == '+':\n",
        "    print(\"Result:\", a + b)\n",
        "elif op == '-':\n",
        "    print(\"Result:\", a - b)\n",
        "elif op == '*':\n",
        "    print(\"Result:\", a * b)\n",
        "elif op == '/':\n",
        "    if b != 0:\n",
        "        print(\"Result:\", a / b)\n",
        "    else:\n",
        "        print(\"Cannot divide by zero.\")\n",
        "else:\n",
        "    print(\"Invalid operation.\")\n"
      ],
      "metadata": {
        "colab": {
          "base_uri": "https://localhost:8080/"
        },
        "id": "G15QEuX-nKjt",
        "outputId": "3c390bd3-e398-4dfc-d506-cb9802be2de3"
      },
      "execution_count": null,
      "outputs": [
        {
          "output_type": "stream",
          "name": "stdout",
          "text": [
            "Enter first number: 34\n",
            "Enter second number: 34\n",
            "Choose operation (+, -, *, /): +\n",
            "Result: 68.0\n"
          ]
        }
      ]
    },
    {
      "cell_type": "code",
      "execution_count": null,
      "metadata": {
        "colab": {
          "base_uri": "https://localhost:8080/"
        },
        "id": "f-9cmUo4UVMx",
        "outputId": "3b1780da-a48f-43a1-99e7-29ee67703683"
      },
      "outputs": [
        {
          "output_type": "stream",
          "name": "stdout",
          "text": [
            "Hello world\n"
          ]
        }
      ],
      "source": [
        "print(\"Hello world\")"
      ]
    },
    {
      "cell_type": "code",
      "source": [
        "import math\n",
        "\n",
        "a = 6\n",
        "b = 9\n",
        "gcd = math.gcd(a, b)\n",
        "lcm = (a * b) // gcd\n",
        "print(lcm)"
      ],
      "metadata": {
        "colab": {
          "base_uri": "https://localhost:8080/"
        },
        "id": "MEz153jjDm4V",
        "outputId": "1f635256-0e1b-4020-ab1f-98e50406accb"
      },
      "execution_count": null,
      "outputs": [
        {
          "output_type": "stream",
          "name": "stdout",
          "text": [
            "18\n"
          ]
        }
      ]
    },
    {
      "cell_type": "code",
      "source": [
        "a=int(input())\n",
        "d=int(input())\n",
        "n=int(input())\n",
        "# Compute the AP Term\n",
        "ans = a+(n-1)*d\n",
        "print(ans)\n"
      ],
      "metadata": {
        "colab": {
          "base_uri": "https://localhost:8080/"
        },
        "id": "2Cx5EXhscw49",
        "outputId": "b1948bfc-9345-463c-9d49-b781c9d8a931"
      },
      "execution_count": null,
      "outputs": [
        {
          "output_type": "stream",
          "name": "stdout",
          "text": [
            "2\n",
            "3\n",
            "4\n",
            "11\n"
          ]
        }
      ]
    },
    {
      "cell_type": "code",
      "source": [],
      "metadata": {
        "id": "xYiXUTLAQRRR"
      },
      "execution_count": null,
      "outputs": []
    },
    {
      "cell_type": "code",
      "source": [
        "a=10\n",
        "b=20\n",
        "res=a+b\n",
        "print(res)"
      ],
      "metadata": {
        "colab": {
          "base_uri": "https://localhost:8080/"
        },
        "id": "3TIWABYxSjw4",
        "outputId": "7b5ce3a7-ebf6-4d32-96fa-d098e8310812"
      },
      "execution_count": null,
      "outputs": [
        {
          "output_type": "stream",
          "name": "stdout",
          "text": [
            "30\n"
          ]
        }
      ]
    },
    {
      "cell_type": "code",
      "source": [
        "a=10\n",
        "b=20\n",
        "if a>b:\n",
        "  print(\"a is largest element\")\n",
        "else:\n",
        "  print(\"b is largest element\")"
      ],
      "metadata": {
        "colab": {
          "base_uri": "https://localhost:8080/"
        },
        "id": "ye5x4ItmTLWA",
        "outputId": "c5b53fd7-b745-42d7-905c-bd65524098c5"
      },
      "execution_count": null,
      "outputs": [
        {
          "output_type": "stream",
          "name": "stdout",
          "text": [
            "b is largest element\n"
          ]
        }
      ]
    },
    {
      "cell_type": "code",
      "source": [
        "def add(a,b):\n",
        "  return a+b\n",
        "num_1=int(input(\"enter a:\"))\n",
        "num_2=int(input(\"enter b:\"))\n",
        "result=add(num_1,num_2)\n",
        "print(f\"the sum:{result}\")\n"
      ],
      "metadata": {
        "id": "jTHusLJNT1VB",
        "colab": {
          "base_uri": "https://localhost:8080/"
        },
        "outputId": "2f6b7a5a-0ff4-4d91-ba6f-bf5aaafe0609"
      },
      "execution_count": null,
      "outputs": [
        {
          "output_type": "stream",
          "name": "stdout",
          "text": [
            "enter a:13\n",
            "enter b:23\n",
            "the sum:36\n"
          ]
        }
      ]
    },
    {
      "cell_type": "code",
      "source": [],
      "metadata": {
        "id": "Tvb9_hKtVICe"
      },
      "execution_count": null,
      "outputs": []
    },
    {
      "cell_type": "code",
      "source": [
        "def palindrome(s):\n",
        "    return s == s[::-1]  # Check if the string is equal to its reverse\n",
        "string = input(\"Enter a string: \")\n",
        "if palindrome(string):\n",
        "    print(f'\"{string}\" is a palindrome')\n",
        "else:\n",
        "    print(f'\"{string}\" is not a palindrome')\n"
      ],
      "metadata": {
        "colab": {
          "base_uri": "https://localhost:8080/"
        },
        "id": "d-S1MgY4TZeI",
        "outputId": "cbf73168-5b4b-4550-d1f1-23b60b542325"
      },
      "execution_count": null,
      "outputs": [
        {
          "output_type": "stream",
          "name": "stdout",
          "text": [
            "Enter a string: madam\n",
            "\"madam\" is a palindrome\n"
          ]
        }
      ]
    },
    {
      "cell_type": "code",
      "source": [
        "# to get average of lsit\n",
        "def average(lst):\n",
        "  sum_of_list=0\n",
        "  for i in range(len(lst)):\n",
        "    sum_of_list += lst[i]\n",
        "  average=sum_of_list/len(lst)\n",
        "  return average"
      ],
      "metadata": {
        "id": "TpcHYeulV6r2"
      },
      "execution_count": null,
      "outputs": []
    }
  ]
}