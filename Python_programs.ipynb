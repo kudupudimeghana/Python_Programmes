{
  "nbformat": 4,
  "nbformat_minor": 0,
  "metadata": {
    "colab": {
      "provenance": [],
      "authorship_tag": "ABX9TyN9M0o5kFkUXlIoDUh6VEeM",
      "include_colab_link": true
    },
    "kernelspec": {
      "name": "python3",
      "display_name": "Python 3"
    },
    "language_info": {
      "name": "python"
    }
  },
  "cells": [
    {
      "cell_type": "markdown",
      "metadata": {
        "id": "view-in-github",
        "colab_type": "text"
      },
      "source": [
        "<a href=\"https://colab.research.google.com/github/kudupudimeghana/Python_Programmes/blob/main/Python_programs.ipynb\" target=\"_parent\"><img src=\"https://colab.research.google.com/assets/colab-badge.svg\" alt=\"Open In Colab\"/></a>"
      ]
    },
    {
      "cell_type": "code",
      "execution_count": null,
      "metadata": {
        "colab": {
          "base_uri": "https://localhost:8080/"
        },
        "id": "f-9cmUo4UVMx",
        "outputId": "3b1780da-a48f-43a1-99e7-29ee67703683"
      },
      "outputs": [
        {
          "output_type": "stream",
          "name": "stdout",
          "text": [
            "Hello world\n"
          ]
        }
      ],
      "source": [
        "print(\"Hello world\")"
      ]
    },
    {
      "cell_type": "code",
      "source": [
        "a=int(input())\n",
        "d=int(input())\n",
        "n=int(input())\n",
        "# Compute the AP Term\n",
        "ans = a+(n-1)*d\n",
        "print(ans)\n"
      ],
      "metadata": {
        "colab": {
          "base_uri": "https://localhost:8080/"
        },
        "id": "2Cx5EXhscw49",
        "outputId": "b1948bfc-9345-463c-9d49-b781c9d8a931"
      },
      "execution_count": 1,
      "outputs": [
        {
          "output_type": "stream",
          "name": "stdout",
          "text": [
            "2\n",
            "3\n",
            "4\n",
            "11\n"
          ]
        }
      ]
    },
    {
      "cell_type": "code",
      "source": [],
      "metadata": {
        "id": "xYiXUTLAQRRR"
      },
      "execution_count": null,
      "outputs": []
    },
    {
      "cell_type": "code",
      "source": [
        "a=10\n",
        "b=20\n",
        "res=a+b\n",
        "print(res)"
      ],
      "metadata": {
        "colab": {
          "base_uri": "https://localhost:8080/"
        },
        "id": "3TIWABYxSjw4",
        "outputId": "7b5ce3a7-ebf6-4d32-96fa-d098e8310812"
      },
      "execution_count": null,
      "outputs": [
        {
          "output_type": "stream",
          "name": "stdout",
          "text": [
            "30\n"
          ]
        }
      ]
    },
    {
      "cell_type": "code",
      "source": [
        "a=10\n",
        "b=20\n",
        "if a>b:\n",
        "  print(\"a is largest element\")\n",
        "else:\n",
        "  print(\"b is largest element\")"
      ],
      "metadata": {
        "colab": {
          "base_uri": "https://localhost:8080/"
        },
        "id": "ye5x4ItmTLWA",
        "outputId": "c5b53fd7-b745-42d7-905c-bd65524098c5"
      },
      "execution_count": null,
      "outputs": [
        {
          "output_type": "stream",
          "name": "stdout",
          "text": [
            "b is largest element\n"
          ]
        }
      ]
    },
    {
      "cell_type": "code",
      "source": [
        "def add(a,b):\n",
        "  return a+b\n",
        "num_1=int(input(\"enter a:\"))\n",
        "num_2=int(input(\"enter b:\"))\n",
        "result=add(num_1,num_2)\n",
        "print(f\"the sum:{result}\")\n"
      ],
      "metadata": {
        "id": "jTHusLJNT1VB",
        "colab": {
          "base_uri": "https://localhost:8080/"
        },
        "outputId": "2f6b7a5a-0ff4-4d91-ba6f-bf5aaafe0609"
      },
      "execution_count": null,
      "outputs": [
        {
          "output_type": "stream",
          "name": "stdout",
          "text": [
            "enter a:13\n",
            "enter b:23\n",
            "the sum:36\n"
          ]
        }
      ]
    },
    {
      "cell_type": "code",
      "source": [],
      "metadata": {
        "id": "Tvb9_hKtVICe"
      },
      "execution_count": null,
      "outputs": []
    },
    {
      "cell_type": "code",
      "source": [
        "def palindrome(s):\n",
        "    return s == s[::-1]  # Check if the string is equal to its reverse\n",
        "string = input(\"Enter a string: \")\n",
        "if palindrome(string):\n",
        "    print(f'\"{string}\" is a palindrome')\n",
        "else:\n",
        "    print(f'\"{string}\" is not a palindrome')\n"
      ],
      "metadata": {
        "colab": {
          "base_uri": "https://localhost:8080/"
        },
        "id": "d-S1MgY4TZeI",
        "outputId": "cbf73168-5b4b-4550-d1f1-23b60b542325"
      },
      "execution_count": null,
      "outputs": [
        {
          "output_type": "stream",
          "name": "stdout",
          "text": [
            "Enter a string: madam\n",
            "\"madam\" is a palindrome\n"
          ]
        }
      ]
    },
    {
      "cell_type": "code",
      "source": [
        "# to get average of lsit\n",
        "def average(lst):\n",
        "  sum_of_list=0\n",
        "  for i in range(len(lst)):\n",
        "    sum_of_list += lst[i]\n",
        "  average=sum_of_list/len(lst)\n",
        "  return average"
      ],
      "metadata": {
        "id": "TpcHYeulV6r2"
      },
      "execution_count": null,
      "outputs": []
    }
  ]
}