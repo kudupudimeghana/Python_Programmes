{
  "nbformat": 4,
  "nbformat_minor": 0,
  "metadata": {
    "colab": {
      "provenance": [],
      "authorship_tag": "ABX9TyNPLk+kKelpbkg8pXt9J8wP",
      "include_colab_link": true
    },
    "kernelspec": {
      "name": "python3",
      "display_name": "Python 3"
    },
    "language_info": {
      "name": "python"
    }
  },
  "cells": [
    {
      "cell_type": "markdown",
      "metadata": {
        "id": "view-in-github",
        "colab_type": "text"
      },
      "source": [
        "<a href=\"https://colab.research.google.com/github/kudupudimeghana/Python_Programmes/blob/main/IRS3.ipynb\" target=\"_parent\"><img src=\"https://colab.research.google.com/assets/colab-badge.svg\" alt=\"Open In Colab\"/></a>"
      ]
    },
    {
      "cell_type": "code",
      "execution_count": 3,
      "metadata": {
        "colab": {
          "base_uri": "https://localhost:8080/"
        },
        "id": "58htSKdTp92i",
        "outputId": "5938cc72-4d63-4f1e-84d2-fed187d7e10d"
      },
      "outputs": [
        {
          "output_type": "stream",
          "name": "stdout",
          "text": [
            "lazy -> document1,document2\n",
            "in -> document2\n",
            "dog -> document2\n",
            "quick -> document1\n",
            "the -> document1,document2\n",
            "over -> document1\n",
            "brown -> document1\n",
            "slept -> document2\n",
            "sun. -> document2\n",
            "jumped -> document1\n",
            "dog. -> document1\n",
            "fox -> document1\n"
          ]
        }
      ],
      "source": [
        "document1 = \"The quick brown fox jumped over the lazy dog.\"\n",
        "document2 = \"The lazy dog slept in the sun.\"\n",
        "tokens1 = document1.lower().split()\n",
        "tokens2 = document2.lower().split()\n",
        "terms = list(set(tokens1 + tokens2))\n",
        "inverted_index = {}\n",
        "for term in terms:\n",
        "    documents = []\n",
        "    if term in tokens1:\n",
        "        documents.append(\"document1\")\n",
        "    if term in tokens2:\n",
        "        documents.append(\"document2\")\n",
        "    inverted_index[term] = documents\n",
        "for term, documents in inverted_index.items():\n",
        "    print(term, \"->\", \",\".join(documents))\n"
      ]
    }
  ]
}